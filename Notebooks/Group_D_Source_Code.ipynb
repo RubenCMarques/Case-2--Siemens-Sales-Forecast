{
 "cells": [
  {
   "cell_type": "markdown",
   "metadata": {},
   "source": [
    "**<h1 align=\"center\">Sales Forecasting</h1>**\n",
    "**<h1 align=\"center\">Siemens</h1>**"
   ]
  },
  {
   "cell_type": "markdown",
   "metadata": {},
   "source": [
    "**Group members:**<br> \n",
    "Chloé Deschanel - 20240693 <br>\n",
    "Diogo Carvalho - 20240694 <br>\n",
    "Ingrid Lopez - 20240692 <br>\n",
    "Ruben Marques- 20240352"
   ]
  },
  {
   "cell_type": "markdown",
   "metadata": {},
   "source": [
    "# Table of Contents\n",
    "\n",
    "* [1. Data Exploration](#chapter1)\n",
    "    * [1.1. Imports](#sub-section-1_1)\n",
    "    * [1.2. Loading Data](#sub-section-1_2)\n",
    "    * [1.3. Sales Data](#sub-section-1_3)\n",
    "        * [1.3.1. Initial Analysis](#sub-section-1_3_1)\n",
    "\n",
    "\n",
    "\n",
    "        \n",
    "        * [1.3.2. Missing Values](#sub-section-1_3_2)\n",
    "        * [1.3.3. Duplicates](#sub-section-1_3_3)\n",
    "        * [1.3.4. Data Statistics](#sub-section-1_3_4)\n",
    "    * [1.4. Individual Variable Analysis](#sub-section-1_4)\n",
    "        * [1.4.1. Numerical Variables](#sub-section-1_4_1)\n",
    "            * [1.4.1.1. Overview](#sub-section-1_4_1_1)\n",
    "        * [1.4.2. Categorical Variables](#sub-section-1_4_2)\n",
    "        * [1.4.3. Binary Variables](#sub-section-1_4_3)\n",
    "\n",
    "\n",
    "        * [1.3.1. Types](#sub-section-1_3_1)\n",
    "        * [1.3.2. Missing Values](#sub-section-1_3_2)\n",
    "        * [1.3.3. Duplicates](#sub-section-1_3_3)\n",
    "        * [1.3.4. Data Statistics](#sub-section-1_3_4)"
   ]
  },
  {
   "cell_type": "markdown",
   "metadata": {},
   "source": [
    "<a class=\"anchor\" id=\"chapter1\"></a>\n",
    "\n",
    "# 1. Data Exploration\n",
    "\n",
    "</a>"
   ]
  },
  {
   "cell_type": "markdown",
   "metadata": {},
   "source": [
    "<a class=\"anchor\" id=\"sub-section-1_1\"></a>\n",
    "\n",
    "## 1.1. Imports\n",
    "\n",
    "</a>"
   ]
  },
  {
   "cell_type": "code",
   "execution_count": 14,
   "metadata": {},
   "outputs": [],
   "source": [
    "# Imports\n",
    "import numpy as np\n",
    "import matplotlib.pyplot as plt\n",
    "import seaborn as sns\n",
    "import pandas as pd\n",
    "\n",
    "# Configurations\n",
    "pd.set_option('display.max_rows', None)\n",
    "pd.set_option('display.max_columns', None)\n",
    "pd.set_option('display.width', None)\n",
    "pd.set_option('display.max_colwidth', None)\n",
    "\n",
    "# Force normal decimal formatting\n",
    "pd.options.display.float_format = '{:.4f}'.format"
   ]
  },
  {
   "cell_type": "code",
   "execution_count": 15,
   "metadata": {},
   "outputs": [],
   "source": [
    "# Visualisations \n",
    "sns.set_style(\"white\")\n",
    "siemens_green = '#009999'\n",
    "siemens_colors = ['#009999', '#006666', '#00CCCC']"
   ]
  },
  {
   "cell_type": "markdown",
   "metadata": {},
   "source": [
    "<a class=\"anchor\" id=\"sub-section-1_2\"></a>\n",
    "\n",
    "## 1.2. Loading Data\n",
    "\n",
    "</a>"
   ]
  },
  {
   "cell_type": "code",
   "execution_count": 16,
   "metadata": {},
   "outputs": [],
   "source": [
    "# Import xlsx dataset into pandas dataframe\n",
    "market_data = pd.read_excel('../Data/Case2_Market data.xlsx', header=[0,1,2])\n",
    "\n",
    "# Import csv dataset into pandas dataframe\n",
    "sales_data = pd.read_csv('../Data/Case2_Sales data.csv', sep=\";\")"
   ]
  },
  {
   "cell_type": "markdown",
   "metadata": {},
   "source": [
    "<a class=\"anchor\" id=\"sub-section-1_3\"></a>\n",
    "\n",
    "## 1.3. Sales Data\n",
    "\n",
    "</a>"
   ]
  },
  {
   "cell_type": "markdown",
   "metadata": {},
   "source": [
    "<a class=\"anchor\" id=\"sub-section-1_3_1\"></a>\n",
    "\n",
    "### 1.3.1. Initial Analysis\n",
    "\n",
    "</a>"
   ]
  },
  {
   "cell_type": "code",
   "execution_count": 17,
   "metadata": {},
   "outputs": [
    {
     "name": "stdout",
     "output_type": "stream",
     "text": [
      "Sales data shape: (9802, 3)\n"
     ]
    },
    {
     "data": {
      "text/html": [
       "<div>\n",
       "<style scoped>\n",
       "    .dataframe tbody tr th:only-of-type {\n",
       "        vertical-align: middle;\n",
       "    }\n",
       "\n",
       "    .dataframe tbody tr th {\n",
       "        vertical-align: top;\n",
       "    }\n",
       "\n",
       "    .dataframe thead th {\n",
       "        text-align: right;\n",
       "    }\n",
       "</style>\n",
       "<table border=\"1\" class=\"dataframe\">\n",
       "  <thead>\n",
       "    <tr style=\"text-align: right;\">\n",
       "      <th></th>\n",
       "      <th>DATE</th>\n",
       "      <th>Mapped_GCK</th>\n",
       "      <th>Sales_EUR</th>\n",
       "    </tr>\n",
       "  </thead>\n",
       "  <tbody>\n",
       "    <tr>\n",
       "      <th>4645</th>\n",
       "      <td>19.11.2020</td>\n",
       "      <td>#1</td>\n",
       "      <td>0</td>\n",
       "    </tr>\n",
       "    <tr>\n",
       "      <th>5852</th>\n",
       "      <td>31.05.2021</td>\n",
       "      <td>#1</td>\n",
       "      <td>482180,04</td>\n",
       "    </tr>\n",
       "    <tr>\n",
       "      <th>1239</th>\n",
       "      <td>25.03.2019</td>\n",
       "      <td>#3</td>\n",
       "      <td>0</td>\n",
       "    </tr>\n",
       "    <tr>\n",
       "      <th>124</th>\n",
       "      <td>15.11.2018</td>\n",
       "      <td>#1</td>\n",
       "      <td>0</td>\n",
       "    </tr>\n",
       "    <tr>\n",
       "      <th>4040</th>\n",
       "      <td>17.03.2021</td>\n",
       "      <td>#16</td>\n",
       "      <td>4068,8</td>\n",
       "    </tr>\n",
       "  </tbody>\n",
       "</table>\n",
       "</div>"
      ],
      "text/plain": [
       "            DATE Mapped_GCK  Sales_EUR\n",
       "4645  19.11.2020         #1          0\n",
       "5852  31.05.2021         #1  482180,04\n",
       "1239  25.03.2019         #3          0\n",
       "124   15.11.2018         #1          0\n",
       "4040  17.03.2021        #16     4068,8"
      ]
     },
     "execution_count": 17,
     "metadata": {},
     "output_type": "execute_result"
    }
   ],
   "source": [
    "print(f'Sales data shape: {sales_data.shape}')\n",
    "sales_data.sample(5)"
   ]
  },
  {
   "cell_type": "code",
   "execution_count": 18,
   "metadata": {},
   "outputs": [
    {
     "name": "stdout",
     "output_type": "stream",
     "text": [
      "<class 'pandas.core.frame.DataFrame'>\n",
      "RangeIndex: 9802 entries, 0 to 9801\n",
      "Data columns (total 3 columns):\n",
      " #   Column      Non-Null Count  Dtype \n",
      "---  ------      --------------  ----- \n",
      " 0   DATE        9802 non-null   object\n",
      " 1   Mapped_GCK  9802 non-null   object\n",
      " 2   Sales_EUR   9802 non-null   object\n",
      "dtypes: object(3)\n",
      "memory usage: 229.9+ KB\n"
     ]
    }
   ],
   "source": [
    "sales_data.info()"
   ]
  },
  {
   "cell_type": "markdown",
   "metadata": {},
   "source": [
    "Before using this dataset effectively, the variables need to be adjusted to the correct data types. \n",
    "- DATE to date data type\n",
    "- Mapped_GCK leave as?\n",
    "- Sales_EUR to float"
   ]
  },
  {
   "cell_type": "code",
   "execution_count": 19,
   "metadata": {},
   "outputs": [
    {
     "data": {
      "text/html": [
       "<div>\n",
       "<style scoped>\n",
       "    .dataframe tbody tr th:only-of-type {\n",
       "        vertical-align: middle;\n",
       "    }\n",
       "\n",
       "    .dataframe tbody tr th {\n",
       "        vertical-align: top;\n",
       "    }\n",
       "\n",
       "    .dataframe thead th {\n",
       "        text-align: right;\n",
       "    }\n",
       "</style>\n",
       "<table border=\"1\" class=\"dataframe\">\n",
       "  <thead>\n",
       "    <tr style=\"text-align: right;\">\n",
       "      <th></th>\n",
       "      <th>DATE</th>\n",
       "      <th>Mapped_GCK</th>\n",
       "      <th>Sales_EUR</th>\n",
       "    </tr>\n",
       "  </thead>\n",
       "  <tbody>\n",
       "  </tbody>\n",
       "</table>\n",
       "</div>"
      ],
      "text/plain": [
       "Empty DataFrame\n",
       "Columns: [DATE, Mapped_GCK, Sales_EUR]\n",
       "Index: []"
      ]
     },
     "execution_count": 19,
     "metadata": {},
     "output_type": "execute_result"
    }
   ],
   "source": [
    "# DUPLICATES\n",
    "sales_data[sales_data.duplicated() == True]"
   ]
  },
  {
   "cell_type": "code",
   "execution_count": 20,
   "metadata": {},
   "outputs": [
    {
     "data": {
      "text/plain": [
       "Series([], dtype: int64)"
      ]
     },
     "execution_count": 20,
     "metadata": {},
     "output_type": "execute_result"
    }
   ],
   "source": [
    "# MISSING VALUES\n",
    "missing_values = sales_data.isnull().sum()\n",
    "missing_values[missing_values > 0]"
   ]
  },
  {
   "cell_type": "code",
   "execution_count": 21,
   "metadata": {},
   "outputs": [
    {
     "data": {
      "text/html": [
       "<div>\n",
       "<style scoped>\n",
       "    .dataframe tbody tr th:only-of-type {\n",
       "        vertical-align: middle;\n",
       "    }\n",
       "\n",
       "    .dataframe tbody tr th {\n",
       "        vertical-align: top;\n",
       "    }\n",
       "\n",
       "    .dataframe thead th {\n",
       "        text-align: right;\n",
       "    }\n",
       "</style>\n",
       "<table border=\"1\" class=\"dataframe\">\n",
       "  <thead>\n",
       "    <tr style=\"text-align: right;\">\n",
       "      <th></th>\n",
       "      <th>DATE</th>\n",
       "      <th>Mapped_GCK</th>\n",
       "      <th>Sales_EUR</th>\n",
       "    </tr>\n",
       "  </thead>\n",
       "  <tbody>\n",
       "    <tr>\n",
       "      <th>count</th>\n",
       "      <td>9802</td>\n",
       "      <td>9802</td>\n",
       "      <td>9802</td>\n",
       "    </tr>\n",
       "    <tr>\n",
       "      <th>unique</th>\n",
       "      <td>1216</td>\n",
       "      <td>14</td>\n",
       "      <td>2609</td>\n",
       "    </tr>\n",
       "    <tr>\n",
       "      <th>top</th>\n",
       "      <td>16.04.2021</td>\n",
       "      <td>#1</td>\n",
       "      <td>0</td>\n",
       "    </tr>\n",
       "    <tr>\n",
       "      <th>freq</th>\n",
       "      <td>14</td>\n",
       "      <td>1179</td>\n",
       "      <td>7134</td>\n",
       "    </tr>\n",
       "  </tbody>\n",
       "</table>\n",
       "</div>"
      ],
      "text/plain": [
       "              DATE Mapped_GCK Sales_EUR\n",
       "count         9802       9802      9802\n",
       "unique        1216         14      2609\n",
       "top     16.04.2021         #1         0\n",
       "freq            14       1179      7134"
      ]
     },
     "execution_count": 21,
     "metadata": {},
     "output_type": "execute_result"
    }
   ],
   "source": [
    "# STATISTICS\n",
    "sales_data.describe(include='all')"
   ]
  },
  {
   "cell_type": "markdown",
   "metadata": {},
   "source": [
    "<a class=\"anchor\" id=\"sub-section-1_3_2\"></a>\n",
    "\n",
    "### 1.3.2. Converting Data Types\n",
    "\n",
    "</a>"
   ]
  },
  {
   "cell_type": "code",
   "execution_count": 22,
   "metadata": {},
   "outputs": [],
   "source": [
    "# Turn into string, replace commas with periods, and remove leading/trailing whitespaces\n",
    "sales_data['Sales_EUR'] = sales_data['Sales_EUR'].astype(str).str.replace(',', '.').str.strip()\n",
    "\n",
    "# Convert to float\n",
    "sales_data['Sales_EUR'] = pd.to_numeric(sales_data['Sales_EUR'])"
   ]
  },
  {
   "cell_type": "code",
   "execution_count": 23,
   "metadata": {},
   "outputs": [],
   "source": [
    "# Convert the DATE column to datetime\n",
    "sales_data['DATE'] = pd.to_datetime(sales_data['DATE'], format='%d.%m.%Y')"
   ]
  },
  {
   "cell_type": "code",
   "execution_count": 24,
   "metadata": {},
   "outputs": [
    {
     "name": "stdout",
     "output_type": "stream",
     "text": [
      "<class 'pandas.core.frame.DataFrame'>\n",
      "RangeIndex: 9802 entries, 0 to 9801\n",
      "Data columns (total 3 columns):\n",
      " #   Column      Non-Null Count  Dtype         \n",
      "---  ------      --------------  -----         \n",
      " 0   DATE        9802 non-null   datetime64[ns]\n",
      " 1   Mapped_GCK  9802 non-null   object        \n",
      " 2   Sales_EUR   9802 non-null   float64       \n",
      "dtypes: datetime64[ns](1), float64(1), object(1)\n",
      "memory usage: 229.9+ KB\n"
     ]
    }
   ],
   "source": [
    "# CHECK\n",
    "sales_data.info()"
   ]
  },
  {
   "cell_type": "markdown",
   "metadata": {},
   "source": [
    "<a class=\"anchor\" id=\"sub-section-1_3_3\"></a>\n",
    "\n",
    "### 1.3.3. Exploratory Data Analysis\n",
    "\n",
    "</a>"
   ]
  },
  {
   "cell_type": "markdown",
   "metadata": {},
   "source": [
    "<a class=\"anchor\" id=\"sub-section-1_3_3_1\"></a>\n",
    "\n",
    "#### 1.3.3.1. Sales Frequency\n",
    "\n",
    "</a>"
   ]
  },
  {
   "cell_type": "markdown",
   "metadata": {},
   "source": [
    "Although the term \"sales volume\" might suggest actual sales figures, in this dataset it might refer to the frequency of product appearances, not the number of units sold.\n",
    "- The dataset contains 14 unique products.\n",
    "- Product #1 appears most frequently, with 1,179 occurrences in the dataset."
   ]
  },
  {
   "cell_type": "code",
   "execution_count": 25,
   "metadata": {},
   "outputs": [
    {
     "name": "stdout",
     "output_type": "stream",
     "text": [
      "Unique values in Mapped_GCK: 14\n"
     ]
    }
   ],
   "source": [
    "print(f'Unique values in Mapped_GCK: {sales_data[\"Mapped_GCK\"].nunique()}')"
   ]
  },
  {
   "cell_type": "code",
   "execution_count": 26,
   "metadata": {},
   "outputs": [
    {
     "data": {
      "text/plain": [
       "Mapped_GCK\n",
       "#1     1179\n",
       "#3     1017\n",
       "#5      959\n",
       "#8      944\n",
       "#4      877\n",
       "#12     803\n",
       "#6      794\n",
       "#16     765\n",
       "#11     732\n",
       "#13     441\n",
       "#36     434\n",
       "#9      333\n",
       "#20     293\n",
       "#14     231\n",
       "Name: count, dtype: int64"
      ]
     },
     "execution_count": 26,
     "metadata": {},
     "output_type": "execute_result"
    }
   ],
   "source": [
    "# Check the distribution of the products by sales volume\n",
    "sales_data['Mapped_GCK'].value_counts().sort_values(ascending=False)"
   ]
  },
  {
   "cell_type": "code",
   "execution_count": 27,
   "metadata": {},
   "outputs": [
    {
     "data": {
      "image/png": "[encoded data removed]",
      "text/plain": [
       "<Figure size 1500x500 with 1 Axes>"
      ]
     },
     "metadata": {},
     "output_type": "display_data"
    }
   ],
   "source": [
    "# Plot the distribution of the products by sales volume\n",
    "plt.figure(figsize=(15, 5))\n",
    "sales_data['Mapped_GCK'].value_counts().plot(kind='bar', color=siemens_green)\n",
    "plt.xlabel('Products')\n",
    "plt.ylabel('Frequency')\n",
    "plt.title('Distribution of Products by Sales')\n",
    "plt.xticks(rotation=0)\n",
    "plt.show()"
   ]
  },
  {
   "cell_type": "markdown",
   "metadata": {},
   "source": [
    "<a class=\"anchor\" id=\"sub-section-1_3_3_2\"></a>\n",
    "\n",
    "#### 1.3.3.2. Sales Revenue\n",
    "\n",
    "</a>"
   ]
  },
  {
   "cell_type": "markdown",
   "metadata": {},
   "source": [
    "- The total revenue is 2673845300.67 EUR.\n",
    "- The dataset is highly imbalanced in terms of sales, with the top 3 products accounting for 93.77% of the total revenue.\n",
    "- There are 276 cases of negative sales."
   ]
  },
  {
   "cell_type": "code",
   "execution_count": 31,
   "metadata": {},
   "outputs": [
    {
     "data": {
      "text/plain": [
       "Mapped_GCK\n",
       "#1    1544205996.7600\n",
       "#3     533443487.7000\n",
       "#5     429595158.0100\n",
       "#11     65901314.6500\n",
       "#8      34871219.8200\n",
       "#6      20641890.4900\n",
       "#16     18391175.7100\n",
       "#4      15627204.9600\n",
       "#12      8279486.3200\n",
       "#13      1009156.9100\n",
       "#36       998613.9100\n",
       "#14       493822.0600\n",
       "#9        308446.5100\n",
       "#20        78326.8600\n",
       "Name: Sales_EUR, dtype: float64"
      ]
     },
     "execution_count": 31,
     "metadata": {},
     "output_type": "execute_result"
    }
   ],
   "source": [
    "# Check total revenue per product\n",
    "rev_product = sales_data.groupby('Mapped_GCK')['Sales_EUR'].sum()\n",
    "rev_product.sort_values(ascending=False)"
   ]
  },
  {
   "cell_type": "code",
   "execution_count": 32,
   "metadata": {},
   "outputs": [
    {
     "data": {
      "image/png": "[encoded data removed]",
      "text/plain": [
       "<Figure size 1500x500 with 1 Axes>"
      ]
     },
     "metadata": {},
     "output_type": "display_data"
    }
   ],
   "source": [
    "# Make a bar plot of total revenue per product\n",
    "plt.figure(figsize=(15, 5))\n",
    "rev_product.sort_values(ascending=False).plot(kind='bar', color=siemens_green)\n",
    "plt.xlabel('Product')\n",
    "plt.ylabel('Total Revenue')\n",
    "plt.title('Total Revenue per Product')\n",
    "plt.xticks(rotation=0)\n",
    "plt.show()"
   ]
  },
  {
   "cell_type": "code",
   "execution_count": 33,
   "metadata": {},
   "outputs": [
    {
     "name": "stdout",
     "output_type": "stream",
     "text": [
      "The total revenue is 2673845300.67 EUR.\n",
      "The top 3 products account for 93.77% of the total revenue.\n"
     ]
    }
   ],
   "source": [
    "# Verify what is the percetange of the total revenue generated by the top 3 products\n",
    "top3_revenue = sales_data.groupby('Mapped_GCK')['Sales_EUR'].sum().sort_values(ascending=False).head(3).sum()\n",
    "total_revenue = sales_data['Sales_EUR'].sum()\n",
    "top3_revenue_percent = (top3_revenue / total_revenue) * 100\n",
    "print(f'The total revenue is {total_revenue:.2f} EUR.')\n",
    "print(f'The top 3 products account for {top3_revenue_percent:.2f}% of the total revenue.')"
   ]
  },
  {
   "cell_type": "code",
   "execution_count": 47,
   "metadata": {},
   "outputs": [
    {
     "name": "stdout",
     "output_type": "stream",
     "text": [
      "There are 276 cases of negative sales.\n"
     ]
    }
   ],
   "source": [
    "# Check negative values\n",
    "print(f'There are {len(sales_data[sales_data[\"Sales_EUR\"] < 0])} cases of negative sales.')"
   ]
  },
  {
   "cell_type": "markdown",
   "metadata": {},
   "source": [
    "<a class=\"anchor\" id=\"sub-section-1_3_3_3\"></a>\n",
    "\n",
    "#### 1.3.3.3. Seasonality\n",
    "\n",
    "</a>"
   ]
  },
  {
   "cell_type": "code",
   "execution_count": null,
   "metadata": {},
   "outputs": [
    {
     "name": "stdout",
     "output_type": "stream",
     "text": [
      "Oldest date in Sales Data: 2018-10-01 00:00:00\n",
      "Newest date in Sales Data: 2022-04-30 00:00:00\n"
     ]
    }
   ],
   "source": [
    "print('Oldest date in Sales Data:', sales_data['DATE'].min())\n",
    "print('Newest date in Sales Data:', sales_data['DATE'].max())"
   ]
  },
  {
   "cell_type": "code",
   "execution_count": null,
   "metadata": {},
   "outputs": [],
   "source": [
    "# Add columns for Month and Year\n",
    "sales_data['Month'] = sales_data['DATE'].dt.month\n",
    "sales_data['Year'] = sales_data['DATE'].dt.year"
   ]
  },
  {
   "cell_type": "markdown",
   "metadata": {},
   "source": [
    "The data points to notable month-to-month and year-to-year fluctuations in both sales frequency and revenue. In terms of monthly performance, **March records the highest number of sales at 969**, generating 264,695,388.51 EUR in revenue, while **May sees the lowest sales frequency at 666**, bringing in 181,965,399.97 EUR. On average, monthly sales frequency stands at 816.83, with mean monthly revenue at 222,820,441.72 EUR.\n",
    "\n",
    "Annually, **2020 leads in overall sales frequency** at 2,779, whereas **2021 posts the highest revenue** at 773,208,458.97 EUR. In contrast, 2018 lags behind with the fewest total sales (639) and the smallest revenue (141,544,018.09 EUR). Across all years, the average annual revenue is 534,769,060.13 EUR.\n",
    "\n",
    "These patterns underline the importance of monitoring demand cycles—both seasonally and annually—to inform production planning, inventory management, and overall business strategy."
   ]
  },
  {
   "cell_type": "markdown",
   "metadata": {},
   "source": [
    "***Frequency of sales by month***\n",
    "- Sales drop during summer\n",
    "- Highest frequency month: 3 with 969 sales\n",
    "- Lowest frequency month: 5 with 666 sales\n",
    "- Average frequency of sales per month: 816.83"
   ]
  },
  {
   "cell_type": "code",
   "execution_count": 34,
   "metadata": {},
   "outputs": [
    {
     "data": {
      "text/plain": [
       "Month\n",
       "3     969\n",
       "10    932\n",
       "11    925\n",
       "1     900\n",
       "2     872\n",
       "4     859\n",
       "12    823\n",
       "9     740\n",
       "7     733\n",
       "6     693\n",
       "8     690\n",
       "5     666\n",
       "Name: count, dtype: int64"
      ]
     },
     "execution_count": 34,
     "metadata": {},
     "output_type": "execute_result"
    }
   ],
   "source": [
    "# Check the sales distribution per month\n",
    "sales_data['Month'].value_counts()"
   ]
  },
  {
   "cell_type": "code",
   "execution_count": 35,
   "metadata": {},
   "outputs": [
    {
     "name": "stdout",
     "output_type": "stream",
     "text": [
      "The month with the highest frequency of sales is 3, with 969 sales.\n",
      "The month with the lowest frequency of sales is 5, with 666 sales.\n",
      "The average frequency of sales per month is 816.83.\n"
     ]
    }
   ],
   "source": [
    "print(f'The month with the highest frequency of sales is {sales_data[\"Month\"].value_counts().idxmax()}, with {sales_data[\"Month\"].value_counts().max()} sales.')\n",
    "print(f'The month with the lowest frequency of sales is {sales_data[\"Month\"].value_counts().idxmin()}, with {sales_data[\"Month\"].value_counts().min()} sales.')\n",
    "print(f'The average frequency of sales per month is {sales_data[\"Month\"].value_counts().mean():.2f}.')"
   ]
  },
  {
   "cell_type": "code",
   "execution_count": 42,
   "metadata": {},
   "outputs": [
    {
     "data": {
      "image/png": "[encoded data removed]",
      "text/plain": [
       "<Figure size 1500x500 with 1 Axes>"
      ]
     },
     "metadata": {},
     "output_type": "display_data"
    }
   ],
   "source": [
    "# plot the distribution of the sales per month\n",
    "plt.figure(figsize=(15, 5))\n",
    "sales_data['Month'].value_counts().sort_index().plot(kind='bar', color=siemens_green)\n",
    "plt.xlabel('Month')\n",
    "plt.ylabel('Frequency')\n",
    "plt.title('Distribution of Sales per Month')\n",
    "plt.xticks(rotation=0)\n",
    "plt.show()"
   ]
  },
  {
   "cell_type": "markdown",
   "metadata": {},
   "source": [
    "***Frequency of sales by year***\n",
    "- Highest frequency year: 2020 with 2779 sales\n",
    "- Lowest frequency year: 2018 with 639 sales (only have 10 months in 2018)\n",
    "- Average frequency of sales per year: 1960.40"
   ]
  },
  {
   "cell_type": "code",
   "execution_count": 38,
   "metadata": {},
   "outputs": [
    {
     "data": {
      "text/plain": [
       "Year\n",
       "2020    2779\n",
       "2021    2762\n",
       "2019    2727\n",
       "2022     895\n",
       "2018     639\n",
       "Name: count, dtype: int64"
      ]
     },
     "execution_count": 38,
     "metadata": {},
     "output_type": "execute_result"
    }
   ],
   "source": [
    "# Check the sales distribution per year\n",
    "sales_data['Year'].value_counts()"
   ]
  },
  {
   "cell_type": "code",
   "execution_count": 39,
   "metadata": {},
   "outputs": [
    {
     "name": "stdout",
     "output_type": "stream",
     "text": [
      "The year with the highest frequency of sales is 2020, with 2779 sales.\n",
      "The year with the lowest frequency of sales is 2018, with 639 sales.\n",
      "The average frequency of sales per year is 1960.40.\n"
     ]
    }
   ],
   "source": [
    "print(f'The year with the highest frequency of sales is {sales_data[\"Year\"].value_counts().idxmax()}, with {sales_data[\"Year\"].value_counts().max()} sales.')\n",
    "print(f'The year with the lowest frequency of sales is {sales_data[\"Year\"].value_counts().idxmin()}, with {sales_data[\"Year\"].value_counts().min()} sales.')\n",
    "print(f'The average frequency of sales per year is {sales_data[\"Year\"].value_counts().mean():.2f}.')"
   ]
  },
  {
   "cell_type": "code",
   "execution_count": 41,
   "metadata": {},
   "outputs": [
    {
     "data": {
      "image/png": "[encoded data removed]",
      "text/plain": [
       "<Figure size 1500x600 with 1 Axes>"
      ]
     },
     "metadata": {},
     "output_type": "display_data"
    }
   ],
   "source": [
    "# plot the distribution of the sales per year\n",
    "plt.figure(figsize=(15, 6))\n",
    "sales_data['Year'].value_counts().sort_index().plot(kind='bar', color=siemens_green)\n",
    "plt.xlabel('Year')\n",
    "plt.ylabel('Frequency')\n",
    "plt.title('Distribution of Sales per Year')\n",
    "plt.xticks(rotation=0)\n",
    "plt.show()"
   ]
  },
  {
   "cell_type": "markdown",
   "metadata": {},
   "source": [
    "***Revenue by month***\n",
    "- Revenue drops during summer.\n",
    "- Highest revenue month: 3 with 264695388.51 EUR\n",
    "- Lowest revenue month: 5 with 181965399.97 EUR\n",
    "- Average revenue per month: 222820441.72 EUR"
   ]
  },
  {
   "cell_type": "code",
   "execution_count": 43,
   "metadata": {},
   "outputs": [
    {
     "data": {
      "text/plain": [
       "Month\n",
       "1    201590801.0700\n",
       "2    248945553.3100\n",
       "3    264695388.5100\n",
       "4    252267661.8200\n",
       "5    181965399.9700\n",
       "6    195766009.8500\n",
       "7    186480261.1500\n",
       "8    199085856.7600\n",
       "9    230235562.0500\n",
       "10   242265376.9900\n",
       "11   225357428.5400\n",
       "12   245190000.6500\n",
       "Name: Sales_EUR, dtype: float64"
      ]
     },
     "execution_count": 43,
     "metadata": {},
     "output_type": "execute_result"
    }
   ],
   "source": [
    "# check the revenue distribution per month\n",
    "sales_data.groupby('Month')['Sales_EUR'].sum()"
   ]
  },
  {
   "cell_type": "code",
   "execution_count": 44,
   "metadata": {},
   "outputs": [
    {
     "name": "stdout",
     "output_type": "stream",
     "text": [
      "The month with the highest revenue is 3, with 264695388.51 EUR.\n",
      "The month with the lowest revenue is 5, with 181965399.97 EUR.\n",
      "The average revenue per month is 222820441.72 EUR.\n"
     ]
    }
   ],
   "source": [
    "print(f'The month with the highest revenue is {sales_data.groupby(\"Month\")[\"Sales_EUR\"].sum().idxmax()}, with {sales_data.groupby(\"Month\")[\"Sales_EUR\"].sum().max():.2f} EUR.')\n",
    "print(f'The month with the lowest revenue is {sales_data.groupby(\"Month\")[\"Sales_EUR\"].sum().idxmin()}, with {sales_data.groupby(\"Month\")[\"Sales_EUR\"].sum().min():.2f} EUR.')\n",
    "print(f'The average revenue per month is {sales_data.groupby(\"Month\")[\"Sales_EUR\"].sum().mean():.2f} EUR.')"
   ]
  },
  {
   "cell_type": "code",
   "execution_count": 46,
   "metadata": {},
   "outputs": [
    {
     "data": {
      "image/png": "[encoded data removed]",
      "text/plain": [
       "<Figure size 1500x600 with 1 Axes>"
      ]
     },
     "metadata": {},
     "output_type": "display_data"
    }
   ],
   "source": [
    "# plot the distribution of the revenue per month\n",
    "plt.figure(figsize=(15, 6))\n",
    "sales_data.groupby('Month')['Sales_EUR'].sum().plot(kind='bar', color=siemens_green)\n",
    "plt.xlabel('Month')\n",
    "plt.ylabel('Revenue')\n",
    "plt.title('Distribution of Revenue per Month')\n",
    "plt.xticks(rotation=0)\n",
    "plt.show()"
   ]
  },
  {
   "cell_type": "markdown",
   "metadata": {},
   "source": [
    "***Revenue by year***\n",
    "- Highest revenue year: 2021 with 773208458.97 EUR\n",
    "- Lowest revenue year: 2018 with 141544018.09 EUR (only have 10 months in 2018)\n",
    "- Average revenue per year is 534769060.13 EUR"
   ]
  },
  {
   "cell_type": "code",
   "execution_count": 48,
   "metadata": {},
   "outputs": [
    {
     "data": {
      "text/plain": [
       "Year\n",
       "2018   141544018.0900\n",
       "2019   756488260.5600\n",
       "2020   737218879.3500\n",
       "2021   773208458.9700\n",
       "2022   265385683.7000\n",
       "Name: Sales_EUR, dtype: float64"
      ]
     },
     "execution_count": 48,
     "metadata": {},
     "output_type": "execute_result"
    }
   ],
   "source": [
    "# check the revenue distribution per year\n",
    "sales_data.groupby('Year')['Sales_EUR'].sum()"
   ]
  },
  {
   "cell_type": "code",
   "execution_count": 49,
   "metadata": {},
   "outputs": [
    {
     "name": "stdout",
     "output_type": "stream",
     "text": [
      "The year with the highest revenue is 2021, with 773208458.97 EUR.\n",
      "The year with the lowest revenue is 2018, with 141544018.09 EUR.\n",
      "The average revenue per year is 534769060.13 EUR.\n"
     ]
    }
   ],
   "source": [
    "print(f'The year with the highest revenue is {sales_data.groupby(\"Year\")[\"Sales_EUR\"].sum().idxmax()}, with {sales_data.groupby(\"Year\")[\"Sales_EUR\"].sum().max():.2f} EUR.')\n",
    "print(f'The year with the lowest revenue is {sales_data.groupby(\"Year\")[\"Sales_EUR\"].sum().idxmin()}, with {sales_data.groupby(\"Year\")[\"Sales_EUR\"].sum().min():.2f} EUR.')\n",
    "print(f'The average revenue per year is {sales_data.groupby(\"Year\")[\"Sales_EUR\"].sum().mean():.2f} EUR.')"
   ]
  },
  {
   "cell_type": "code",
   "execution_count": 50,
   "metadata": {},
   "outputs": [
    {
     "data": {
      "image/png": "[encoded data removed]",
      "text/plain": [
       "<Figure size 1500x600 with 1 Axes>"
      ]
     },
     "metadata": {},
     "output_type": "display_data"
    }
   ],
   "source": [
    "# plot the distribution of the revenue per year\n",
    "plt.figure(figsize=(15, 6))\n",
    "sales_data.groupby('Year')['Sales_EUR'].sum().plot(kind='bar', color=siemens_green)\n",
    "plt.xlabel('Year')\n",
    "plt.ylabel('Revenue')\n",
    "plt.title('Distribution of Revenue per Year')\n",
    "plt.xticks(rotation=0)\n",
    "plt.show()"
   ]
  },
  {
   "cell_type": "code",
   "execution_count": null,
   "metadata": {},
   "outputs": [],
   "source": []
  }
 ],
 "metadata": {
  "kernelspec": {
   "display_name": "base",
   "language": "python",
   "name": "python3"
  },
  "language_info": {
   "codemirror_mode": {
    "name": "ipython",
    "version": 3
   },
   "file_extension": ".py",
   "mimetype": "text/x-python",
   "name": "python",
   "nbconvert_exporter": "python",
   "pygments_lexer": "ipython3",
   "version": "3.11.9"
  }
 },
 "nbformat": 4,
 "nbformat_minor": 2
}
