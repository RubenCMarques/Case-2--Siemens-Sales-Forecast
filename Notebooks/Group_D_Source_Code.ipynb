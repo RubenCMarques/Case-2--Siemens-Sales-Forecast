{
 "cells": [
  {
   "cell_type": "markdown",
   "metadata": {},
   "source": [
    "**<h1 align=\"center\">Sales Forecasting</h1>**\n",
    "**<h1 align=\"center\">Siemens</h1>**"
   ]
  },
  {
   "cell_type": "markdown",
   "metadata": {},
   "source": [
    "**Group members:**<br> \n",
    "Chloé Deschanel - 20240693 <br>\n",
    "Diogo Carvalho - 20240694 <br>\n",
    "Ingrid Lopez - 20240692 <br>\n",
    "Ruben Marques- 20240352"
   ]
  },
  {
   "cell_type": "markdown",
   "metadata": {},
   "source": [
    "# Table of Contents\n",
    "\n",
    "* [1. Data Exploration](#chapter1)\n",
    "    * [1.1. Imports](#sub-section-1_1)\n",
    "    * [1.2. Loading Data](#sub-section-1_2)\n",
    "    * [1.3. Sales Data](#sub-section-1_3)\n",
    "        * [1.3.1. Initial Analysis](#sub-section-1_3_1)\n",
    "\n",
    "\n",
    "\n",
    "        \n",
    "        * [1.3.2. Missing Values](#sub-section-1_3_2)\n",
    "        * [1.3.3. Duplicates](#sub-section-1_3_3)\n",
    "        * [1.3.4. Data Statistics](#sub-section-1_3_4)\n",
    "    * [1.4. Individual Variable Analysis](#sub-section-1_4)\n",
    "        * [1.4.1. Numerical Variables](#sub-section-1_4_1)\n",
    "            * [1.4.1.1. Overview](#sub-section-1_4_1_1)\n",
    "        * [1.4.2. Categorical Variables](#sub-section-1_4_2)\n",
    "        * [1.4.3. Binary Variables](#sub-section-1_4_3)\n",
    "\n",
    "\n",
    "        * [1.3.1. Types](#sub-section-1_3_1)\n",
    "        * [1.3.2. Missing Values](#sub-section-1_3_2)\n",
    "        * [1.3.3. Duplicates](#sub-section-1_3_3)\n",
    "        * [1.3.4. Data Statistics](#sub-section-1_3_4)"
   ]
  },
  {
   "cell_type": "markdown",
   "metadata": {},
   "source": [
    "<a class=\"anchor\" id=\"chapter1\"></a>\n",
    "\n",
    "# 1. Data Exploration\n",
    "\n",
    "</a>"
   ]
  },
  {
   "cell_type": "markdown",
   "metadata": {},
   "source": [
    "<a class=\"anchor\" id=\"sub-section-1_1\"></a>\n",
    "\n",
    "## 1.1. Imports\n",
    "\n",
    "</a>"
   ]
  },
  {
   "cell_type": "code",
   "execution_count": null,
   "metadata": {},
   "outputs": [],
   "source": [
    "# Imports\n",
    "import numpy as np\n",
    "import matplotlib.pyplot as plt\n",
    "import seaborn as sns\n",
    "import pandas as pd\n",
    "\n",
    "# Configurations\n",
    "pd.set_option('display.max_rows', None)\n",
    "pd.set_option('display.max_columns', None)\n",
    "pd.set_option('display.width', None)\n",
    "pd.set_option('display.max_colwidth', None)\n",
    "\n",
    "# Force normal decimal formatting\n",
    "pd.options.display.float_format = '{:.4f}'.format"
   ]
  },
  {
   "cell_type": "code",
   "execution_count": null,
   "metadata": {},
   "outputs": [],
   "source": [
    "# Visualisations \n",
    "sns.set_style(\"white\")\n",
    "siemens_green = '#009999'\n",
    "siemens_colors = ['#009999', '#006666', '#00CCCC']"
   ]
  },
  {
   "cell_type": "markdown",
   "metadata": {},
   "source": [
    "<a class=\"anchor\" id=\"sub-section-1_2\"></a>\n",
    "\n",
    "## 1.2. Loading Data\n",
    "\n",
    "</a>"
   ]
  },
  {
   "cell_type": "code",
   "execution_count": null,
   "metadata": {},
   "outputs": [],
   "source": [
    "# Import xlsx dataset into pandas dataframe\n",
    "market_data = pd.read_excel('../Data/Case2_Market data.xlsx', header=[0,1,2])\n",
    "\n",
    "# Import csv dataset into pandas dataframe\n",
    "sales_data = pd.read_csv('../Data/Case2_Sales data.csv', sep=\";\")"
   ]
  },
  {
   "cell_type": "markdown",
   "metadata": {},
   "source": [
    "<a class=\"anchor\" id=\"sub-section-1_3\"></a>\n",
    "\n",
    "## 1.3. Sales Data\n",
    "\n",
    "</a>"
   ]
  },
  {
   "cell_type": "markdown",
   "metadata": {},
   "source": [
    "<a class=\"anchor\" id=\"sub-section-1_3_1\"></a>\n",
    "\n",
    "### 1.3.1. Initial Analysis\n",
    "\n",
    "</a>"
   ]
  },
  {
   "cell_type": "markdown",
   "metadata": {},
   "source": []
  }
 ],
 "metadata": {
  "kernelspec": {
   "display_name": "base",
   "language": "python",
   "name": "python3"
  },
  "language_info": {
   "name": "python",
   "version": "3.11.9"
  }
 },
 "nbformat": 4,
 "nbformat_minor": 2
}
